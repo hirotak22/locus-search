{
 "cells": [
  {
   "attachments": {},
   "cell_type": "markdown",
   "metadata": {},
   "source": [
    "# Usage of locus search"
   ]
  },
  {
   "cell_type": "code",
   "execution_count": 1,
   "metadata": {},
   "outputs": [],
   "source": [
    "from locus_search.locus_search_tools import *"
   ]
  },
  {
   "cell_type": "code",
   "execution_count": null,
   "metadata": {},
   "outputs": [],
   "source": [
    "%cd .."
   ]
  },
  {
   "attachments": {},
   "cell_type": "markdown",
   "metadata": {},
   "source": [
    "## Ensembl"
   ]
  },
  {
   "cell_type": "code",
   "execution_count": 8,
   "metadata": {},
   "outputs": [],
   "source": [
    "query = 'P74258'"
   ]
  },
  {
   "cell_type": "code",
   "execution_count": 9,
   "metadata": {},
   "outputs": [],
   "source": [
    "tag_GeneID, in_NCBI, tag_Ensembl, in_Ensembl = check_external_links(query)"
   ]
  },
  {
   "attachments": {},
   "cell_type": "markdown",
   "metadata": {},
   "source": [
    "- tag_GeneID : The part of a scraping result related to GeneID for the UniProt query.\n",
    "\n",
    "- in_NCBI : Whether the UniProt query is linked to NCBI. (bool)\n",
    "\n",
    "- tag_Ensembl : The part of a scraping result related to Ensemble ID for the UniProt query.\n",
    "\n",
    "- in_Ensembl : Whether the UniProt query is linked to Ensembl. (bool)"
   ]
  },
  {
   "cell_type": "code",
   "execution_count": 10,
   "metadata": {},
   "outputs": [
    {
     "name": "stdout",
     "output_type": "stream",
     "text": [
      "in_NCBI    : False\n",
      "in_Ensembl : True\n"
     ]
    }
   ],
   "source": [
    "print(f'in_NCBI    : {in_NCBI}')\n",
    "print(f'in_Ensembl : {in_Ensembl}')"
   ]
  },
  {
   "cell_type": "code",
   "execution_count": 11,
   "metadata": {},
   "outputs": [],
   "source": [
    "if (in_NCBI):   # False\n",
    "    df_output_NCBI = NCBI_pipeline(tag_GeneID, scope=5, update=False)"
   ]
  },
  {
   "cell_type": "code",
   "execution_count": 12,
   "metadata": {},
   "outputs": [],
   "source": [
    "if (in_Ensembl):    # True\n",
    "    df_output_Ensembl = Ensembl_pipeline(tag_Ensembl, scope=5, update=False)"
   ]
  },
  {
   "attachments": {},
   "cell_type": "markdown",
   "metadata": {},
   "source": [
    "- scope : Range of proteins around the query to be searched. (int, default = 5) \n",
    "\n",
    "- update : Whether to search again for previously searched items. (bool, default = False)"
   ]
  },
  {
   "cell_type": "code",
   "execution_count": 13,
   "metadata": {},
   "outputs": [
    {
     "data": {
      "text/html": [
       "<div>\n",
       "<style scoped>\n",
       "    .dataframe tbody tr th:only-of-type {\n",
       "        vertical-align: middle;\n",
       "    }\n",
       "\n",
       "    .dataframe tbody tr th {\n",
       "        vertical-align: top;\n",
       "    }\n",
       "\n",
       "    .dataframe thead th {\n",
       "        text-align: right;\n",
       "    }\n",
       "</style>\n",
       "<table border=\"1\" class=\"dataframe\">\n",
       "  <thead>\n",
       "    <tr style=\"text-align: right;\">\n",
       "      <th></th>\n",
       "      <th>index</th>\n",
       "      <th>gene_id</th>\n",
       "      <th>start</th>\n",
       "      <th>end</th>\n",
       "      <th>strand</th>\n",
       "      <th>description</th>\n",
       "    </tr>\n",
       "  </thead>\n",
       "  <tbody>\n",
       "    <tr>\n",
       "      <th>856</th>\n",
       "      <td>1759</td>\n",
       "      <td>BAA18339</td>\n",
       "      <td>1934307</td>\n",
       "      <td>1935386</td>\n",
       "      <td>1</td>\n",
       "      <td>43 kD bacteriochlorophyll synthase subunit</td>\n",
       "    </tr>\n",
       "    <tr>\n",
       "      <th>857</th>\n",
       "      <td>1765</td>\n",
       "      <td>BAA18345</td>\n",
       "      <td>1939865</td>\n",
       "      <td>1940506</td>\n",
       "      <td>1</td>\n",
       "      <td>None</td>\n",
       "    </tr>\n",
       "    <tr>\n",
       "      <th>858</th>\n",
       "      <td>1766</td>\n",
       "      <td>BAA18346</td>\n",
       "      <td>1940549</td>\n",
       "      <td>1942087</td>\n",
       "      <td>1</td>\n",
       "      <td>sodium-coupled permease</td>\n",
       "    </tr>\n",
       "    <tr>\n",
       "      <th>859</th>\n",
       "      <td>1767</td>\n",
       "      <td>BAA18347</td>\n",
       "      <td>1942234</td>\n",
       "      <td>1942701</td>\n",
       "      <td>1</td>\n",
       "      <td>None</td>\n",
       "    </tr>\n",
       "    <tr>\n",
       "      <th>860</th>\n",
       "      <td>1771</td>\n",
       "      <td>BAA18351</td>\n",
       "      <td>1945518</td>\n",
       "      <td>1947179</td>\n",
       "      <td>1</td>\n",
       "      <td>glycerol-3-phosphate dehydrogenase</td>\n",
       "    </tr>\n",
       "    <tr>\n",
       "      <th>861</th>\n",
       "      <td>1772</td>\n",
       "      <td>BAA18352</td>\n",
       "      <td>1947325</td>\n",
       "      <td>1948824</td>\n",
       "      <td>1</td>\n",
       "      <td>alpha,alpha-trehalose-phosphate synthase</td>\n",
       "    </tr>\n",
       "    <tr>\n",
       "      <th>862</th>\n",
       "      <td>1783</td>\n",
       "      <td>BAA18363</td>\n",
       "      <td>1959436</td>\n",
       "      <td>1961079</td>\n",
       "      <td>1</td>\n",
       "      <td>alpha-isopropylmalate synthase</td>\n",
       "    </tr>\n",
       "    <tr>\n",
       "      <th>863</th>\n",
       "      <td>1787</td>\n",
       "      <td>BAA18367</td>\n",
       "      <td>1962705</td>\n",
       "      <td>1965524</td>\n",
       "      <td>1</td>\n",
       "      <td>None</td>\n",
       "    </tr>\n",
       "    <tr>\n",
       "      <th>864</th>\n",
       "      <td>1788</td>\n",
       "      <td>BAA18368</td>\n",
       "      <td>1965485</td>\n",
       "      <td>1965949</td>\n",
       "      <td>1</td>\n",
       "      <td>None</td>\n",
       "    </tr>\n",
       "    <tr>\n",
       "      <th>865</th>\n",
       "      <td>1789</td>\n",
       "      <td>BAA18369</td>\n",
       "      <td>1966146</td>\n",
       "      <td>1969118</td>\n",
       "      <td>1</td>\n",
       "      <td>delta-1-pyrroline-5-carboxylate dehydrogenase</td>\n",
       "    </tr>\n",
       "    <tr>\n",
       "      <th>866</th>\n",
       "      <td>1792</td>\n",
       "      <td>BAA18372</td>\n",
       "      <td>1970952</td>\n",
       "      <td>1971968</td>\n",
       "      <td>1</td>\n",
       "      <td>transposase</td>\n",
       "    </tr>\n",
       "  </tbody>\n",
       "</table>\n",
       "</div>"
      ],
      "text/plain": [
       "     index   gene_id    start      end  strand  \\\n",
       "856   1759  BAA18339  1934307  1935386       1   \n",
       "857   1765  BAA18345  1939865  1940506       1   \n",
       "858   1766  BAA18346  1940549  1942087       1   \n",
       "859   1767  BAA18347  1942234  1942701       1   \n",
       "860   1771  BAA18351  1945518  1947179       1   \n",
       "861   1772  BAA18352  1947325  1948824       1   \n",
       "862   1783  BAA18363  1959436  1961079       1   \n",
       "863   1787  BAA18367  1962705  1965524       1   \n",
       "864   1788  BAA18368  1965485  1965949       1   \n",
       "865   1789  BAA18369  1966146  1969118       1   \n",
       "866   1792  BAA18372  1970952  1971968       1   \n",
       "\n",
       "                                       description  \n",
       "856     43 kD bacteriochlorophyll synthase subunit  \n",
       "857                                           None  \n",
       "858                        sodium-coupled permease  \n",
       "859                                           None  \n",
       "860             glycerol-3-phosphate dehydrogenase  \n",
       "861       alpha,alpha-trehalose-phosphate synthase  \n",
       "862                 alpha-isopropylmalate synthase  \n",
       "863                                           None  \n",
       "864                                           None  \n",
       "865  delta-1-pyrroline-5-carboxylate dehydrogenase  \n",
       "866                                    transposase  "
      ]
     },
     "execution_count": 13,
     "metadata": {},
     "output_type": "execute_result"
    }
   ],
   "source": [
    "df_output_Ensembl"
   ]
  },
  {
   "attachments": {},
   "cell_type": "markdown",
   "metadata": {},
   "source": [
    "## NCBI"
   ]
  },
  {
   "cell_type": "code",
   "execution_count": 3,
   "metadata": {},
   "outputs": [],
   "source": [
    "query = 'P12345'"
   ]
  },
  {
   "cell_type": "code",
   "execution_count": 4,
   "metadata": {},
   "outputs": [],
   "source": [
    "tag_GeneID, in_NCBI, tag_Ensembl, in_Ensembl = check_external_links(query)"
   ]
  },
  {
   "cell_type": "code",
   "execution_count": 5,
   "metadata": {},
   "outputs": [
    {
     "name": "stdout",
     "output_type": "stream",
     "text": [
      "in_NCBI    : True\n",
      "in_Ensembl : False\n"
     ]
    }
   ],
   "source": [
    "print(f'in_NCBI    : {in_NCBI}')\n",
    "print(f'in_Ensembl : {in_Ensembl}')"
   ]
  },
  {
   "cell_type": "code",
   "execution_count": 6,
   "metadata": {},
   "outputs": [],
   "source": [
    "if (in_NCBI):   # True\n",
    "    df_output_NCBI = NCBI_pipeline(tag_GeneID, scope=5, update=False)"
   ]
  },
  {
   "cell_type": "code",
   "execution_count": 7,
   "metadata": {},
   "outputs": [],
   "source": [
    "if (in_Ensembl):    # False\n",
    "    df_output_Ensembl = Ensembl_pipeline(tag_Ensembl, scope=5, update=False)"
   ]
  },
  {
   "cell_type": "code",
   "execution_count": 8,
   "metadata": {},
   "outputs": [
    {
     "data": {
      "text/html": [
       "<div>\n",
       "<style scoped>\n",
       "    .dataframe tbody tr th:only-of-type {\n",
       "        vertical-align: middle;\n",
       "    }\n",
       "\n",
       "    .dataframe tbody tr th {\n",
       "        vertical-align: top;\n",
       "    }\n",
       "\n",
       "    .dataframe thead th {\n",
       "        text-align: right;\n",
       "    }\n",
       "</style>\n",
       "<table border=\"1\" class=\"dataframe\">\n",
       "  <thead>\n",
       "    <tr style=\"text-align: right;\">\n",
       "      <th></th>\n",
       "      <th>start</th>\n",
       "      <th>end</th>\n",
       "      <th>gene_name</th>\n",
       "      <th>GeneID</th>\n",
       "      <th>description</th>\n",
       "    </tr>\n",
       "  </thead>\n",
       "  <tbody>\n",
       "    <tr>\n",
       "      <th>181</th>\n",
       "      <td>14326371</td>\n",
       "      <td>14314551</td>\n",
       "      <td>LOC100338732</td>\n",
       "      <td>100338732</td>\n",
       "      <td>GINS complex subunit 3</td>\n",
       "    </tr>\n",
       "    <tr>\n",
       "      <th>182</th>\n",
       "      <td>14408555</td>\n",
       "      <td>14369895</td>\n",
       "      <td>LOC108176730</td>\n",
       "      <td>108176730</td>\n",
       "      <td>NDRG family member 4</td>\n",
       "    </tr>\n",
       "    <tr>\n",
       "      <th>183</th>\n",
       "      <td>14416308</td>\n",
       "      <td>14409348</td>\n",
       "      <td>LOC100338978</td>\n",
       "      <td>100338978</td>\n",
       "      <td>SET domain containing 6, protein lysine methyl...</td>\n",
       "    </tr>\n",
       "    <tr>\n",
       "      <th>184</th>\n",
       "      <td>14413471</td>\n",
       "      <td>14502663</td>\n",
       "      <td>LOC100348223</td>\n",
       "      <td>100348223</td>\n",
       "      <td>CCR4-NOT transcription complex subunit 1</td>\n",
       "    </tr>\n",
       "    <tr>\n",
       "      <th>185</th>\n",
       "      <td>14530282</td>\n",
       "      <td>14549184</td>\n",
       "      <td>LOC100348474</td>\n",
       "      <td>100348474</td>\n",
       "      <td>solute carrier family 38 member 7</td>\n",
       "    </tr>\n",
       "    <tr>\n",
       "      <th>186</th>\n",
       "      <td>14555621</td>\n",
       "      <td>14577537</td>\n",
       "      <td>LOC100348732</td>\n",
       "      <td>100348732</td>\n",
       "      <td>glutamic-oxaloacetic transaminase 2</td>\n",
       "    </tr>\n",
       "    <tr>\n",
       "      <th>187</th>\n",
       "      <td>17294490</td>\n",
       "      <td>17712444</td>\n",
       "      <td>LOC100348982</td>\n",
       "      <td>100348982</td>\n",
       "      <td>cadherin 8</td>\n",
       "    </tr>\n",
       "    <tr>\n",
       "      <th>188</th>\n",
       "      <td>18430070</td>\n",
       "      <td>18431011</td>\n",
       "      <td>NPM1</td>\n",
       "      <td>100328693</td>\n",
       "      <td>nucleophosmin (nucleolar phosphoprotein B23, n...</td>\n",
       "    </tr>\n",
       "    <tr>\n",
       "      <th>189</th>\n",
       "      <td>19327295</td>\n",
       "      <td>19341992</td>\n",
       "      <td>LOC127491314</td>\n",
       "      <td>127491314</td>\n",
       "      <td>uncharacterized LOC127491314</td>\n",
       "    </tr>\n",
       "    <tr>\n",
       "      <th>190</th>\n",
       "      <td>19791811</td>\n",
       "      <td>19791344</td>\n",
       "      <td>LOC100340229</td>\n",
       "      <td>100340229</td>\n",
       "      <td>U1 small nuclear ribonucleoprotein C-like</td>\n",
       "    </tr>\n",
       "    <tr>\n",
       "      <th>191</th>\n",
       "      <td>20508636</td>\n",
       "      <td>20672605</td>\n",
       "      <td>LOC100349487</td>\n",
       "      <td>100349487</td>\n",
       "      <td>cadherin 11</td>\n",
       "    </tr>\n",
       "  </tbody>\n",
       "</table>\n",
       "</div>"
      ],
      "text/plain": [
       "        start       end     gene_name     GeneID  \\\n",
       "181  14326371  14314551  LOC100338732  100338732   \n",
       "182  14408555  14369895  LOC108176730  108176730   \n",
       "183  14416308  14409348  LOC100338978  100338978   \n",
       "184  14413471  14502663  LOC100348223  100348223   \n",
       "185  14530282  14549184  LOC100348474  100348474   \n",
       "186  14555621  14577537  LOC100348732  100348732   \n",
       "187  17294490  17712444  LOC100348982  100348982   \n",
       "188  18430070  18431011          NPM1  100328693   \n",
       "189  19327295  19341992  LOC127491314  127491314   \n",
       "190  19791811  19791344  LOC100340229  100340229   \n",
       "191  20508636  20672605  LOC100349487  100349487   \n",
       "\n",
       "                                           description  \n",
       "181                             GINS complex subunit 3  \n",
       "182                               NDRG family member 4  \n",
       "183  SET domain containing 6, protein lysine methyl...  \n",
       "184           CCR4-NOT transcription complex subunit 1  \n",
       "185                  solute carrier family 38 member 7  \n",
       "186                glutamic-oxaloacetic transaminase 2  \n",
       "187                                         cadherin 8  \n",
       "188  nucleophosmin (nucleolar phosphoprotein B23, n...  \n",
       "189                       uncharacterized LOC127491314  \n",
       "190          U1 small nuclear ribonucleoprotein C-like  \n",
       "191                                        cadherin 11  "
      ]
     },
     "execution_count": 8,
     "metadata": {},
     "output_type": "execute_result"
    }
   ],
   "source": [
    "df_output_NCBI"
   ]
  }
 ],
 "metadata": {
  "kernelspec": {
   "display_name": "Python 3.8.12 ('base')",
   "language": "python",
   "name": "python3"
  },
  "language_info": {
   "codemirror_mode": {
    "name": "ipython",
    "version": 3
   },
   "file_extension": ".py",
   "mimetype": "text/x-python",
   "name": "python",
   "nbconvert_exporter": "python",
   "pygments_lexer": "ipython3",
   "version": "3.8.12 (default, Oct 12 2021, 06:23:56) \n[Clang 10.0.0 ]"
  },
  "orig_nbformat": 4,
  "vscode": {
   "interpreter": {
    "hash": "7677f63e90c34b4659e163f3474428d820cf73e16730b0b5d8c15e609af0226a"
   }
  }
 },
 "nbformat": 4,
 "nbformat_minor": 2
}
